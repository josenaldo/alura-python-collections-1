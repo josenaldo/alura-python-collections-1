{
 "cells": [
  {
   "cell_type": "markdown",
   "source": [
    "# Listas"
   ],
   "metadata": {}
  },
  {
   "cell_type": "markdown",
   "source": [
    "Em Python, existem situações em que você deseja criar vários valores com o mesmo propósito. Por exemplo, quando você deseja criar um agrupamento de todas as idades de cada um dos alunos de uma sala. "
   ],
   "metadata": {}
  },
  {
   "cell_type": "code",
   "execution_count": 1,
   "source": [
    "idade1 = 39\r\n",
    "idade2 = 30\r\n",
    "idade3 = 27\r\n",
    "idade4 = 18\r\n",
    "\r\n",
    "print(idade1)\r\n",
    "print(idade2)\r\n",
    "print(idade3)\r\n",
    "print(idade4)"
   ],
   "outputs": [
    {
     "output_type": "stream",
     "name": "stdout",
     "text": [
      "39\n",
      "30\n",
      "27\n",
      "18\n"
     ]
    }
   ],
   "metadata": {}
  },
  {
   "cell_type": "markdown",
   "source": [
    "Ao ivés de ficar criando uma nova variável, a cada vez que um novo valor aparece, podemos criar uma lista, que agrupa todos os valores em uma mesma estrutura de dados. No Python, as listas fazem parte de uma categoria de objetos, chama de Sequence (sequência). A essa categoria também pertence a classe str(String).\n",
    "\n",
    "A forma mais simples de declarar uma lista é escrver, entre colchetes e separados por vírgula, cada um dos valores dessa lista."
   ],
   "metadata": {}
  },
  {
   "cell_type": "code",
   "execution_count": 2,
   "source": [
    "# Declarando uma Lista\r\n",
    "idades = [39, 30, 27, 18]"
   ],
   "outputs": [],
   "metadata": {}
  },
  {
   "cell_type": "code",
   "execution_count": 3,
   "source": [
    "# Verificando o tipo da lista criada\r\n",
    "type(idades)"
   ],
   "outputs": [
    {
     "output_type": "execute_result",
     "data": {
      "text/plain": [
       "list"
      ]
     },
     "metadata": {},
     "execution_count": 3
    }
   ],
   "metadata": {}
  },
  {
   "cell_type": "code",
   "execution_count": 4,
   "source": [
    "# Verificando o tamanho da lista\r\n",
    "len(idades)"
   ],
   "outputs": [
    {
     "output_type": "execute_result",
     "data": {
      "text/plain": [
       "4"
      ]
     },
     "metadata": {},
     "execution_count": 4
    }
   ],
   "metadata": {}
  },
  {
   "cell_type": "code",
   "execution_count": 5,
   "source": [
    "# Acessando um valor específico da lista, atravpes da notação colchetes. No caso, o valor acessado é o primeiro elemento da lista.\r\n",
    "idades[0]"
   ],
   "outputs": [
    {
     "output_type": "execute_result",
     "data": {
      "text/plain": [
       "39"
      ]
     },
     "metadata": {},
     "execution_count": 5
    }
   ],
   "metadata": {}
  },
  {
   "cell_type": "code",
   "execution_count": 6,
   "source": [
    "# Acessando vários elementos da lista\r\n",
    "print(idades[1])\r\n",
    "print(idades[2])\r\n",
    "print(idades[3])"
   ],
   "outputs": [
    {
     "output_type": "stream",
     "name": "stdout",
     "text": [
      "30\n",
      "27\n",
      "18\n"
     ]
    }
   ],
   "metadata": {}
  },
  {
   "cell_type": "code",
   "execution_count": 7,
   "source": [
    "# Adicionando um elemento ao final da lista.\r\n",
    "idades.append(15)"
   ],
   "outputs": [],
   "metadata": {}
  },
  {
   "cell_type": "code",
   "execution_count": 8,
   "source": [
    "#Verificando que o elemento 15 foi adicionado ao final da lista\r\n",
    "idades"
   ],
   "outputs": [
    {
     "output_type": "execute_result",
     "data": {
      "text/plain": [
       "[39, 30, 27, 18, 15]"
      ]
     },
     "metadata": {},
     "execution_count": 8
    }
   ],
   "metadata": {}
  },
  {
   "cell_type": "code",
   "execution_count": 9,
   "source": [
    "# ACessando o elemento adicionado\r\n",
    "idades[4]"
   ],
   "outputs": [
    {
     "output_type": "execute_result",
     "data": {
      "text/plain": [
       "15"
      ]
     },
     "metadata": {},
     "execution_count": 9
    }
   ],
   "metadata": {}
  },
  {
   "cell_type": "code",
   "execution_count": 10,
   "source": [
    "# Tentando acessar um elemento fora da lista, o que deve causar um erro\r\n",
    "idades[5]"
   ],
   "outputs": [
    {
     "output_type": "error",
     "ename": "IndexError",
     "evalue": "list index out of range",
     "traceback": [
      "\u001b[1;31m---------------------------------------------------------------------------\u001b[0m",
      "\u001b[1;31mIndexError\u001b[0m                                Traceback (most recent call last)",
      "\u001b[1;32m~\\AppData\\Local\\Temp/ipykernel_2872/677184382.py\u001b[0m in \u001b[0;36m<module>\u001b[1;34m\u001b[0m\n\u001b[0;32m      1\u001b[0m \u001b[1;31m# Tentando acessar um elemento fora da lista, o que deve causar um erro\u001b[0m\u001b[1;33m\u001b[0m\u001b[1;33m\u001b[0m\u001b[1;33m\u001b[0m\u001b[0m\n\u001b[1;32m----> 2\u001b[1;33m \u001b[0midades\u001b[0m\u001b[1;33m[\u001b[0m\u001b[1;36m5\u001b[0m\u001b[1;33m]\u001b[0m\u001b[1;33m\u001b[0m\u001b[1;33m\u001b[0m\u001b[0m\n\u001b[0m",
      "\u001b[1;31mIndexError\u001b[0m: list index out of range"
     ]
    }
   ],
   "metadata": {}
  },
  {
   "cell_type": "code",
   "execution_count": 11,
   "source": [
    "# Acessando, sequencialmente, cada um dos elementos da lista\r\n",
    "for idade in idades:\r\n",
    "    print(idade)"
   ],
   "outputs": [
    {
     "output_type": "stream",
     "name": "stdout",
     "text": [
      "39\n",
      "30\n",
      "27\n",
      "18\n",
      "15\n"
     ]
    }
   ],
   "metadata": {}
  },
  {
   "cell_type": "code",
   "execution_count": 12,
   "source": [
    "# Removendo um elemento da lista\r\n",
    "idades.remove(30)"
   ],
   "outputs": [],
   "metadata": {}
  },
  {
   "cell_type": "code",
   "execution_count": 13,
   "source": [
    "# Exibindo a lista sem o elemento removido\r\n",
    "idades"
   ],
   "outputs": [
    {
     "output_type": "execute_result",
     "data": {
      "text/plain": [
       "[39, 27, 18, 15]"
      ]
     },
     "metadata": {},
     "execution_count": 13
    }
   ],
   "metadata": {}
  },
  {
   "cell_type": "code",
   "execution_count": 14,
   "source": [
    "# Adicionando elementos ao dinal da lista\r\n",
    "idades.append(15)"
   ],
   "outputs": [],
   "metadata": {}
  },
  {
   "cell_type": "code",
   "execution_count": 15,
   "source": [
    "idades"
   ],
   "outputs": [
    {
     "output_type": "execute_result",
     "data": {
      "text/plain": [
       "[39, 27, 18, 15, 15]"
      ]
     },
     "metadata": {},
     "execution_count": 15
    }
   ],
   "metadata": {}
  },
  {
   "cell_type": "code",
   "execution_count": 16,
   "source": [
    "# Removendo a primeira instância encontrada de um elemento da lista\r\n",
    "idades.remove(15)"
   ],
   "outputs": [],
   "metadata": {}
  },
  {
   "cell_type": "code",
   "execution_count": 17,
   "source": [
    "idades"
   ],
   "outputs": [
    {
     "output_type": "execute_result",
     "data": {
      "text/plain": [
       "[39, 27, 18, 15]"
      ]
     },
     "metadata": {},
     "execution_count": 17
    }
   ],
   "metadata": {}
  },
  {
   "cell_type": "code",
   "execution_count": 18,
   "source": [
    "# Verificando que a primeira instância é que é a removida\r\n",
    "idades.append(27)\r\n",
    "idades.remove(27)\r\n",
    "idades"
   ],
   "outputs": [
    {
     "output_type": "execute_result",
     "data": {
      "text/plain": [
       "[39, 18, 15, 27]"
      ]
     },
     "metadata": {},
     "execution_count": 18
    }
   ],
   "metadata": {}
  },
  {
   "cell_type": "code",
   "execution_count": 19,
   "source": [
    "# Verificando se um elemento existe na lista. NO caso, o elemento não existe.\r\n",
    "28 in idades"
   ],
   "outputs": [
    {
     "output_type": "execute_result",
     "data": {
      "text/plain": [
       "False"
      ]
     },
     "metadata": {},
     "execution_count": 19
    }
   ],
   "metadata": {}
  },
  {
   "cell_type": "code",
   "execution_count": 20,
   "source": [
    "# Verificando se um elemento existe na lista. No caso, o elemento existe.\r\n",
    "15 in idades"
   ],
   "outputs": [
    {
     "output_type": "execute_result",
     "data": {
      "text/plain": [
       "True"
      ]
     },
     "metadata": {},
     "execution_count": 20
    }
   ],
   "metadata": {}
  },
  {
   "cell_type": "code",
   "execution_count": 21,
   "source": [
    "# Para que não ocorra um erro ao tentar remover um elemento que não existe,\r\n",
    "# devemos verificar, antes da remoção, a existência desse elemento na lista\r\n",
    "if 15 in idades:\r\n",
    "    idades.remove(15)"
   ],
   "outputs": [],
   "metadata": {}
  },
  {
   "cell_type": "code",
   "execution_count": 22,
   "source": [
    "idades"
   ],
   "outputs": [
    {
     "output_type": "execute_result",
     "data": {
      "text/plain": [
       "[39, 18, 27]"
      ]
     },
     "metadata": {},
     "execution_count": 22
    }
   ],
   "metadata": {}
  },
  {
   "cell_type": "code",
   "execution_count": 23,
   "source": [
    "if 28 in idades:\r\n",
    "    idades.remove(28)"
   ],
   "outputs": [],
   "metadata": {}
  },
  {
   "cell_type": "code",
   "execution_count": 24,
   "source": [
    "idades"
   ],
   "outputs": [
    {
     "output_type": "execute_result",
     "data": {
      "text/plain": [
       "[39, 18, 27]"
      ]
     },
     "metadata": {},
     "execution_count": 24
    }
   ],
   "metadata": {}
  },
  {
   "cell_type": "code",
   "execution_count": 26,
   "source": [
    "# O método append adiciona um elemento sempre no final da lista\r\n",
    "idades.append(19)\r\n",
    "idades"
   ],
   "outputs": [
    {
     "output_type": "execute_result",
     "data": {
      "text/plain": [
       "[39, 18, 27, 19, 19]"
      ]
     },
     "metadata": {},
     "execution_count": 26
    }
   ],
   "metadata": {}
  },
  {
   "cell_type": "code",
   "execution_count": 27,
   "source": [
    "# O método insert adiciona o elemento numa posição fornecida (o primeiro argumento)\r\n",
    "idades.insert(0, 20)\r\n",
    "idades"
   ],
   "outputs": [
    {
     "output_type": "execute_result",
     "data": {
      "text/plain": [
       "[20, 39, 18, 27, 19, 19]"
      ]
     },
     "metadata": {},
     "execution_count": 27
    }
   ],
   "metadata": {}
  },
  {
   "cell_type": "code",
   "execution_count": 29,
   "source": [
    "# Se o indice fornecido for maior que o número de elementos da lista, o\r\n",
    "# elemento é inserido no fim da lista\r\n",
    "idades.insert(18, 25)\r\n",
    "idades"
   ],
   "outputs": [
    {
     "output_type": "execute_result",
     "data": {
      "text/plain": [
       "[20, 39, 18, 27, 19, 19, 25, 25]"
      ]
     },
     "metadata": {},
     "execution_count": 29
    }
   ],
   "metadata": {}
  },
  {
   "cell_type": "code",
   "execution_count": 30,
   "source": [
    "idades = [20, 39, 18]\r\n",
    "idades"
   ],
   "outputs": [
    {
     "output_type": "execute_result",
     "data": {
      "text/plain": [
       "[20, 39, 18]"
      ]
     },
     "metadata": {},
     "execution_count": 30
    }
   ],
   "metadata": {}
  },
  {
   "cell_type": "code",
   "execution_count": 31,
   "source": [
    "idades.append([27, 19])"
   ],
   "outputs": [],
   "metadata": {}
  },
  {
   "cell_type": "code",
   "execution_count": 32,
   "source": [
    "idades"
   ],
   "outputs": [
    {
     "output_type": "execute_result",
     "data": {
      "text/plain": [
       "[20, 39, 18, [27, 19]]"
      ]
     },
     "metadata": {},
     "execution_count": 32
    }
   ],
   "metadata": {}
  },
  {
   "cell_type": "code",
   "execution_count": 33,
   "source": [
    "for elemento in idades:\r\n",
    "    print(\"Recebi o elemento\", elemento)"
   ],
   "outputs": [
    {
     "output_type": "stream",
     "name": "stdout",
     "text": [
      "Recebi o elemento 20\n",
      "Recebi o elemento 39\n",
      "Recebi o elemento 18\n",
      "Recebi o elemento [27, 19]\n"
     ]
    }
   ],
   "metadata": {}
  },
  {
   "cell_type": "code",
   "execution_count": 34,
   "source": [
    "idades = [20, 39, 18]\r\n",
    "idades.extend([27, 19])\r\n",
    "idades"
   ],
   "outputs": [
    {
     "output_type": "execute_result",
     "data": {
      "text/plain": [
       "[20, 39, 18, 27, 19]"
      ]
     },
     "metadata": {},
     "execution_count": 34
    }
   ],
   "metadata": {}
  },
  {
   "cell_type": "code",
   "execution_count": 35,
   "source": [
    "for idade in idades:\r\n",
    "    print(idade + 1)"
   ],
   "outputs": [
    {
     "output_type": "stream",
     "name": "stdout",
     "text": [
      "21\n",
      "40\n",
      "19\n",
      "28\n",
      "20\n"
     ]
    }
   ],
   "metadata": {}
  },
  {
   "cell_type": "code",
   "execution_count": 36,
   "source": [
    "idades_no_ano_que_vem = []\r\n",
    "for idade in idades:\r\n",
    "    idades_no_ano_que_vem.append(idade+1)\r\n",
    "idades_no_ano_que_vem"
   ],
   "outputs": [
    {
     "output_type": "execute_result",
     "data": {
      "text/plain": [
       "[21, 40, 19, 28, 20]"
      ]
     },
     "metadata": {},
     "execution_count": 36
    }
   ],
   "metadata": {}
  },
  {
   "cell_type": "code",
   "execution_count": 37,
   "source": [
    "idades_no_ano_que_vem = [idade+1 for idade in idades]\r\n",
    "idades_no_ano_que_vem"
   ],
   "outputs": [
    {
     "output_type": "execute_result",
     "data": {
      "text/plain": [
       "[21, 40, 19, 28, 20]"
      ]
     },
     "metadata": {},
     "execution_count": 37
    }
   ],
   "metadata": {}
  },
  {
   "cell_type": "code",
   "execution_count": 38,
   "source": [
    "[idade for idade in idades if idade > 21]"
   ],
   "outputs": [
    {
     "output_type": "execute_result",
     "data": {
      "text/plain": [
       "[39, 27]"
      ]
     },
     "metadata": {},
     "execution_count": 38
    }
   ],
   "metadata": {}
  },
  {
   "cell_type": "code",
   "execution_count": 39,
   "source": [
    "idades"
   ],
   "outputs": [
    {
     "output_type": "execute_result",
     "data": {
      "text/plain": [
       "[20, 39, 18, 27, 19]"
      ]
     },
     "metadata": {},
     "execution_count": 39
    }
   ],
   "metadata": {}
  },
  {
   "cell_type": "code",
   "execution_count": 41,
   "source": [
    "def proximo_ano(idade):\r\n",
    "    return idade+1\r\n",
    "\r\n",
    "[proximo_ano(idade) for idade in idades if idade > 21]"
   ],
   "outputs": [
    {
     "output_type": "execute_result",
     "data": {
      "text/plain": [
       "[40, 28]"
      ]
     },
     "metadata": {},
     "execution_count": 41
    }
   ],
   "metadata": {}
  },
  {
   "cell_type": "code",
   "execution_count": 42,
   "source": [
    "def faz_processamento_de_visualizacao(lista):\r\n",
    "    print(len(lista))\r\n",
    "    lista.append(13)"
   ],
   "outputs": [],
   "metadata": {}
  },
  {
   "cell_type": "code",
   "execution_count": 43,
   "source": [
    "idades = [16, 21, 29, 56, 43]\r\n",
    "faz_processamento_de_visualizacao(idades)\r\n",
    "idades"
   ],
   "outputs": [
    {
     "output_type": "stream",
     "name": "stdout",
     "text": [
      "5\n"
     ]
    },
    {
     "output_type": "execute_result",
     "data": {
      "text/plain": [
       "[16, 21, 29, 56, 43, 13]"
      ]
     },
     "metadata": {},
     "execution_count": 43
    }
   ],
   "metadata": {}
  },
  {
   "cell_type": "code",
   "execution_count": 44,
   "source": [
    "def faz_processamento_de_visualizacao(lista = []):\r\n",
    "    print(len(lista))\r\n",
    "    print(lista)\r\n",
    "    lista.append(13)"
   ],
   "outputs": [],
   "metadata": {}
  },
  {
   "cell_type": "code",
   "execution_count": 45,
   "source": [
    "faz_processamento_de_visualizacao()"
   ],
   "outputs": [
    {
     "output_type": "stream",
     "name": "stdout",
     "text": [
      "0\n",
      "[]\n"
     ]
    }
   ],
   "metadata": {}
  },
  {
   "cell_type": "code",
   "execution_count": 46,
   "source": [
    "faz_processamento_de_visualizacao()"
   ],
   "outputs": [
    {
     "output_type": "stream",
     "name": "stdout",
     "text": [
      "1\n",
      "[13]\n"
     ]
    }
   ],
   "metadata": {}
  },
  {
   "cell_type": "code",
   "execution_count": 47,
   "source": [
    "faz_processamento_de_visualizacao()"
   ],
   "outputs": [
    {
     "output_type": "stream",
     "name": "stdout",
     "text": [
      "2\n",
      "[13, 13]\n"
     ]
    }
   ],
   "metadata": {}
  },
  {
   "cell_type": "code",
   "execution_count": 48,
   "source": [
    "faz_processamento_de_visualizacao()"
   ],
   "outputs": [
    {
     "output_type": "stream",
     "name": "stdout",
     "text": [
      "3\n",
      "[13, 13, 13]\n"
     ]
    }
   ],
   "metadata": {}
  },
  {
   "cell_type": "code",
   "execution_count": 49,
   "source": [
    "def faz_processamento_de_visualizacao(lista = list()):\r\n",
    "    print(len(lista))\r\n",
    "    print(lista)\r\n",
    "    lista.append(13)"
   ],
   "outputs": [],
   "metadata": {}
  },
  {
   "cell_type": "code",
   "execution_count": 50,
   "source": [
    "faz_processamento_de_visualizacao()\r\n",
    "faz_processamento_de_visualizacao()"
   ],
   "outputs": [
    {
     "output_type": "stream",
     "name": "stdout",
     "text": [
      "0\n",
      "[]\n",
      "1\n",
      "[13]\n"
     ]
    }
   ],
   "metadata": {}
  },
  {
   "cell_type": "code",
   "execution_count": 51,
   "source": [
    "def faz_processamento_de_visualizacao(lista = None):\r\n",
    "    if lista == None:\r\n",
    "        lista = list()\r\n",
    "    print(len(lista))\r\n",
    "    print(lista)\r\n",
    "    lista.append(13)"
   ],
   "outputs": [],
   "metadata": {}
  },
  {
   "cell_type": "code",
   "execution_count": null,
   "source": [],
   "outputs": [],
   "metadata": {}
  },
  {
   "cell_type": "code",
   "execution_count": 52,
   "source": [
    "faz_processamento_de_visualizacao()\r\n",
    "faz_processamento_de_visualizacao()\r\n",
    "faz_processamento_de_visualizacao()\r\n",
    "faz_processamento_de_visualizacao()"
   ],
   "outputs": [
    {
     "output_type": "stream",
     "name": "stdout",
     "text": [
      "0\n",
      "[]\n",
      "0\n",
      "[]\n",
      "0\n",
      "[]\n",
      "0\n",
      "[]\n"
     ]
    }
   ],
   "metadata": {}
  },
  {
   "cell_type": "code",
   "execution_count": null,
   "source": [],
   "outputs": [],
   "metadata": {}
  },
  {
   "cell_type": "markdown",
   "source": [
    "# Cuidado com valores padrão!\n",
    "\n",
    "Em Python, quando um valor padrão é declarado, esse valor é criado e ficana memória. Se o valor padrão for um objeto, por exemplo, uma instância do objeto é criada quando a função é **DECLARADA** e essa instância será usada cada vez qu a função for chamada. Dessa forma, é necessário tomar muito cuidado com operações que causam efeito colateral nessa instância. Veja o exemplo abaixo:"
   ],
   "metadata": {}
  },
  {
   "cell_type": "code",
   "execution_count": null,
   "source": [
    "import random as random\r\n",
    "\r\n",
    "class Aluno:\r\n",
    "    def __init__(self):\r\n",
    "        self.nota = 0\r\n",
    "        self.nome = random.choice(['Pedro', 'João', 'Lucas', 'Felipe'])\r\n",
    "        \r\n",
    "def faz_algo(aluno = Aluno()):\r\n",
    "    aluno.nota += 1\r\n",
    "    print(f'{aluno.nome} tirou {aluno.nota} na prova')\r\n",
    "    "
   ],
   "outputs": [],
   "metadata": {}
  },
  {
   "cell_type": "code",
   "execution_count": null,
   "source": [
    "faz_algo()"
   ],
   "outputs": [],
   "metadata": {}
  },
  {
   "cell_type": "code",
   "execution_count": null,
   "source": [
    "faz_algo()"
   ],
   "outputs": [],
   "metadata": {}
  },
  {
   "cell_type": "code",
   "execution_count": null,
   "source": [
    "faz_algo()"
   ],
   "outputs": [],
   "metadata": {}
  },
  {
   "cell_type": "markdown",
   "source": [
    "Se o desejado é que uma instância nova seja criada a cada execução, a boa prática é usar `None` como valor default e verificar, no início da função, se o valor passado foi `None`. Caso tenha sido, uma nova instância deve ser criada."
   ],
   "metadata": {}
  },
  {
   "cell_type": "code",
   "execution_count": null,
   "source": [
    "def faz_outro_algo(aluno = None):\r\n",
    "    if(aluno == None):\r\n",
    "        aluno = Aluno()\r\n",
    "    \r\n",
    "    aluno.nota += 1\r\n",
    "    print(f'{aluno.nome} tirou {aluno.nota} na prova')"
   ],
   "outputs": [],
   "metadata": {}
  },
  {
   "cell_type": "code",
   "execution_count": null,
   "source": [
    "faz_outro_algo()"
   ],
   "outputs": [],
   "metadata": {}
  },
  {
   "cell_type": "code",
   "execution_count": null,
   "source": [
    "faz_outro_algo()"
   ],
   "outputs": [],
   "metadata": {}
  },
  {
   "cell_type": "code",
   "execution_count": null,
   "source": [
    "faz_outro_algo()"
   ],
   "outputs": [],
   "metadata": {}
  },
  {
   "cell_type": "code",
   "execution_count": null,
   "source": [
    "faz_outro_algo()"
   ],
   "outputs": [],
   "metadata": {}
  },
  {
   "cell_type": "code",
   "execution_count": null,
   "source": [],
   "outputs": [],
   "metadata": {}
  }
 ],
 "metadata": {
  "kernelspec": {
   "name": "python3",
   "display_name": "Python 3.9.6 64-bit (conda)"
  },
  "language_info": {
   "codemirror_mode": {
    "name": "ipython",
    "version": 3
   },
   "file_extension": ".py",
   "mimetype": "text/x-python",
   "name": "python",
   "nbconvert_exporter": "python",
   "pygments_lexer": "ipython3",
   "version": "3.9.6"
  },
  "interpreter": {
   "hash": "1f1783b31262440a20f19333e39ea62365295a41e6f70d73e641d686da3a6e4c"
  }
 },
 "nbformat": 4,
 "nbformat_minor": 5
}