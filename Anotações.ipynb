{
 "cells": [
  {
   "cell_type": "markdown",
   "source": [
    "# Listas"
   ],
   "metadata": {}
  },
  {
   "cell_type": "markdown",
   "source": [
    "Em Python, existem situações em que você deseja criar vários valores com o mesmo propósito. Por exemplo, quando você deseja criar um agrupamento de todas as idades de cada um dos alunos de uma sala. "
   ],
   "metadata": {}
  },
  {
   "cell_type": "code",
   "execution_count": 1,
   "source": [
    "idade1 = 39\r\n",
    "idade2 = 30\r\n",
    "idade3 = 27\r\n",
    "idade4 = 18\r\n",
    "\r\n",
    "print(idade1)\r\n",
    "print(idade2)\r\n",
    "print(idade3)\r\n",
    "print(idade4)"
   ],
   "outputs": [
    {
     "output_type": "stream",
     "name": "stdout",
     "text": [
      "39\n",
      "30\n",
      "27\n",
      "18\n"
     ]
    }
   ],
   "metadata": {}
  },
  {
   "cell_type": "markdown",
   "source": [
    "Ao ivés de ficar criando uma nova variável, a cada vez que um novo valor aparece, podemos criar uma lista, que agrupa todos os valores em uma mesma estrutura de dados. No Python, as listas fazem parte de uma categoria de objetos, chama de Sequence (sequência). A essa categoria também pertence a classe str(String).\n",
    "\n",
    "A forma mais simples de declarar uma lista é escrver, entre colchetes e separados por vírgula, cada um dos valores dessa lista."
   ],
   "metadata": {}
  },
  {
   "cell_type": "code",
   "execution_count": 2,
   "source": [
    "idades = [39, 30, 27, 18]"
   ],
   "outputs": [],
   "metadata": {}
  },
  {
   "cell_type": "markdown",
   "source": [
    "Verificando o tipo da lista criada"
   ],
   "metadata": {}
  },
  {
   "cell_type": "code",
   "execution_count": 3,
   "source": [
    "type(idades)"
   ],
   "outputs": [
    {
     "output_type": "execute_result",
     "data": {
      "text/plain": [
       "list"
      ]
     },
     "metadata": {},
     "execution_count": 3
    }
   ],
   "metadata": {}
  },
  {
   "cell_type": "markdown",
   "source": [
    "Verificando o tamanho da lista"
   ],
   "metadata": {}
  },
  {
   "cell_type": "code",
   "execution_count": 4,
   "source": [
    "len(idades)"
   ],
   "outputs": [
    {
     "output_type": "execute_result",
     "data": {
      "text/plain": [
       "4"
      ]
     },
     "metadata": {},
     "execution_count": 4
    }
   ],
   "metadata": {}
  },
  {
   "cell_type": "markdown",
   "source": [
    "Acessando um valor específico da lista, através da notação colchetes. No caso, o valor acessado é o primeiro elemento da lista."
   ],
   "metadata": {}
  },
  {
   "cell_type": "code",
   "execution_count": 5,
   "source": [
    "idades[0]"
   ],
   "outputs": [
    {
     "output_type": "execute_result",
     "data": {
      "text/plain": [
       "39"
      ]
     },
     "metadata": {},
     "execution_count": 5
    }
   ],
   "metadata": {}
  },
  {
   "cell_type": "markdown",
   "source": [
    "Acessando vários elementos da lista"
   ],
   "metadata": {}
  },
  {
   "cell_type": "code",
   "execution_count": 6,
   "source": [
    "print(idades[1])\r\n",
    "print(idades[2])\r\n",
    "print(idades[3])"
   ],
   "outputs": [
    {
     "output_type": "stream",
     "name": "stdout",
     "text": [
      "30\n",
      "27\n",
      "18\n"
     ]
    }
   ],
   "metadata": {}
  },
  {
   "cell_type": "markdown",
   "source": [
    "Adicionamos elementos, ao final da lista, com o método `lista.append()`."
   ],
   "metadata": {}
  },
  {
   "cell_type": "code",
   "execution_count": 7,
   "source": [
    "idades.append(15)\r\n",
    "idades"
   ],
   "outputs": [
    {
     "output_type": "execute_result",
     "data": {
      "text/plain": [
       "[39, 30, 27, 18, 15]"
      ]
     },
     "metadata": {},
     "execution_count": 7
    }
   ],
   "metadata": {}
  },
  {
   "cell_type": "markdown",
   "source": [
    "O elemento adicionado pode ser acessado através de seu índice."
   ],
   "metadata": {}
  },
  {
   "cell_type": "code",
   "execution_count": 8,
   "source": [
    "idades[4]"
   ],
   "outputs": [
    {
     "output_type": "execute_result",
     "data": {
      "text/plain": [
       "15"
      ]
     },
     "metadata": {},
     "execution_count": 8
    }
   ],
   "metadata": {}
  },
  {
   "cell_type": "markdown",
   "source": [
    "Se tentarmos acessar um elemento de fora da lista, ocorre um erro. "
   ],
   "metadata": {}
  },
  {
   "cell_type": "code",
   "execution_count": 9,
   "source": [
    "try:\r\n",
    "    idades[5]\r\n",
    "except IndexError as error:\r\n",
    "    print(error)"
   ],
   "outputs": [
    {
     "output_type": "stream",
     "name": "stdout",
     "text": [
      "list index out of range\n"
     ]
    }
   ],
   "metadata": {}
  },
  {
   "cell_type": "markdown",
   "source": [
    "Acessando, sequencialmente, cada um dos elementos da lista, através de um for."
   ],
   "metadata": {}
  },
  {
   "cell_type": "code",
   "execution_count": 10,
   "source": [
    "for idade in idades:\r\n",
    "    print(idade)"
   ],
   "outputs": [
    {
     "output_type": "stream",
     "name": "stdout",
     "text": [
      "39\n",
      "30\n",
      "27\n",
      "18\n",
      "15\n"
     ]
    }
   ],
   "metadata": {}
  },
  {
   "cell_type": "markdown",
   "source": [
    "Para removermos um elemento da list, usamos o método `lista.remove(elemento)`. Esse método remove a primeira instância do objeto encontrada."
   ],
   "metadata": {}
  },
  {
   "cell_type": "code",
   "execution_count": 47,
   "source": [
    "idades = [26, 18, 27, 35, 89]\r\n",
    "print(f'lista antes da adição do 27: {idades}')\r\n",
    "\r\n",
    "idades.append(27)\r\n",
    "print(f'Lista após adição do 27: {idades}')\r\n",
    "\r\n",
    "idades.remove(27)\r\n",
    "print(f'Lista após a remoção do primeiro 27: {idades}')"
   ],
   "outputs": [
    {
     "output_type": "stream",
     "name": "stdout",
     "text": [
      "lista antes da adição do 27: [26, 18, 27, 35, 89]\n",
      "Lista após adição do 27: [26, 18, 27, 35, 89, 27]\n",
      "Lista após a remoção do primeiro 27: [26, 18, 35, 89, 27]\n"
     ]
    }
   ],
   "metadata": {}
  },
  {
   "cell_type": "markdown",
   "source": [
    "Para verificar se um elemento existe na lista, isamos o operador `in`."
   ],
   "metadata": {}
  },
  {
   "cell_type": "code",
   "execution_count": 49,
   "source": [
    "# Buscando um valor que não existe\r\n",
    "print(f'28 existe na lista {idades}? {28 in idades}')\r\n",
    "\r\n",
    "print(f'18 existe na lista {idades}? {18 in idades}')"
   ],
   "outputs": [
    {
     "output_type": "stream",
     "name": "stdout",
     "text": [
      "28 existe na lista [26, 18, 35, 89, 27]? False\n",
      "18 existe na lista [26, 18, 35, 89, 27]? True\n"
     ]
    }
   ],
   "metadata": {}
  },
  {
   "cell_type": "markdown",
   "source": [
    "Para que não ocorra um erro ao tentar remover um elemento que não existe, devemos verificar, antes da remoção, a existência desse elemento na lista."
   ],
   "metadata": {}
  },
  {
   "cell_type": "code",
   "execution_count": 51,
   "source": [
    "idades = [26, 18, 27, 35, 89]\r\n",
    "print(f'Lista antes da remoção: {idades}')\r\n",
    "\r\n",
    "if 15 in idades:\r\n",
    "    idades.remove(15)\r\n",
    "\r\n",
    "print(f'Lista após a remoção de um número que não existe(15): {idades}')\r\n",
    "\r\n",
    "if 18 in idades:\r\n",
    "    idades.remove(18)\r\n",
    "\r\n",
    "print(f'Lista após a remoção de um número que existe(18): {idades}')"
   ],
   "outputs": [
    {
     "output_type": "stream",
     "name": "stdout",
     "text": [
      "Lista antes da remoção: [26, 18, 27, 35, 89]\n",
      "Lista após a remoção de um número que não existe(15): [26, 18, 27, 35, 89]\n",
      "Lista após a remoção de um número que existe(18): [26, 27, 35, 89]\n"
     ]
    }
   ],
   "metadata": {}
  },
  {
   "cell_type": "markdown",
   "source": [
    "O método insert adiciona o elemento numa posição fornecida (o primeiro argumento)."
   ],
   "metadata": {}
  },
  {
   "cell_type": "code",
   "execution_count": 52,
   "source": [
    "idades = [26, 18, 27, 35, 89]\r\n",
    "print(f'Lista antes da inserção: {idades}')\r\n",
    "\r\n",
    "idades.insert(0, 20)\r\n",
    "print(f'Lista após a inserção: {idades}')\r\n"
   ],
   "outputs": [
    {
     "output_type": "stream",
     "name": "stdout",
     "text": [
      "Lista antes da inserção: [26, 18, 27, 35, 89]\n",
      "Lista após a inserção: [20, 26, 18, 27, 35, 89]\n"
     ]
    }
   ],
   "metadata": {}
  },
  {
   "cell_type": "code",
   "execution_count": 17,
   "source": [
    "# Se o indice fornecido for maior que o número de elementos da lista, o\r\n",
    "# elemento é inserido no fim da lista\r\n",
    "idades.insert(18, 25)\r\n",
    "idades"
   ],
   "outputs": [
    {
     "output_type": "execute_result",
     "data": {
      "text/plain": [
       "[20, 39, 30, 18, 27, 25]"
      ]
     },
     "metadata": {},
     "execution_count": 17
    }
   ],
   "metadata": {}
  },
  {
   "cell_type": "code",
   "execution_count": 18,
   "source": [
    "# Cuidado ao inserir elementos de uma lista em outra lista. Se a lista B\r\n",
    "# for adicionada na lista A, como parâmetro do método append, ela será\r\n",
    "# adicionada com elemento da lista A, ao invés de ter cada um de seus\r\n",
    "# elementos adicionados.\r\n",
    "idades = [20, 39, 18]\r\n",
    "idades.append([27, 19])\r\n",
    "idades"
   ],
   "outputs": [
    {
     "output_type": "execute_result",
     "data": {
      "text/plain": [
       "[20, 39, 18, [27, 19]]"
      ]
     },
     "metadata": {},
     "execution_count": 18
    }
   ],
   "metadata": {}
  },
  {
   "cell_type": "code",
   "execution_count": 19,
   "source": [
    "# Como podemos ver, ao iterar na lista `idades`\r\n",
    "for elemento in idades:\r\n",
    "    print(\"Recebi o elemento\", elemento)"
   ],
   "outputs": [
    {
     "output_type": "stream",
     "name": "stdout",
     "text": [
      "Recebi o elemento 20\n",
      "Recebi o elemento 39\n",
      "Recebi o elemento 18\n",
      "Recebi o elemento [27, 19]\n"
     ]
    }
   ],
   "metadata": {}
  },
  {
   "cell_type": "code",
   "execution_count": 20,
   "source": [
    "idades = [20, 39, 18]\r\n",
    "idades.extend([27, 19])\r\n",
    "idades"
   ],
   "outputs": [
    {
     "output_type": "execute_result",
     "data": {
      "text/plain": [
       "[20, 39, 18, 27, 19]"
      ]
     },
     "metadata": {},
     "execution_count": 20
    }
   ],
   "metadata": {}
  },
  {
   "cell_type": "code",
   "execution_count": 21,
   "source": [
    "for idade in idades:\r\n",
    "    print(idade + 1)"
   ],
   "outputs": [
    {
     "output_type": "stream",
     "name": "stdout",
     "text": [
      "21\n",
      "40\n",
      "19\n",
      "28\n",
      "20\n"
     ]
    }
   ],
   "metadata": {}
  },
  {
   "cell_type": "code",
   "execution_count": 22,
   "source": [
    "idades_no_ano_que_vem = []\r\n",
    "for idade in idades:\r\n",
    "    idades_no_ano_que_vem.append(idade+1)\r\n",
    "idades_no_ano_que_vem"
   ],
   "outputs": [
    {
     "output_type": "execute_result",
     "data": {
      "text/plain": [
       "[21, 40, 19, 28, 20]"
      ]
     },
     "metadata": {},
     "execution_count": 22
    }
   ],
   "metadata": {}
  },
  {
   "cell_type": "code",
   "execution_count": 23,
   "source": [
    "idades_no_ano_que_vem = [idade+1 for idade in idades]\r\n",
    "idades_no_ano_que_vem"
   ],
   "outputs": [
    {
     "output_type": "execute_result",
     "data": {
      "text/plain": [
       "[21, 40, 19, 28, 20]"
      ]
     },
     "metadata": {},
     "execution_count": 23
    }
   ],
   "metadata": {}
  },
  {
   "cell_type": "code",
   "execution_count": 24,
   "source": [
    "[idade for idade in idades if idade > 21]"
   ],
   "outputs": [
    {
     "output_type": "execute_result",
     "data": {
      "text/plain": [
       "[39, 27]"
      ]
     },
     "metadata": {},
     "execution_count": 24
    }
   ],
   "metadata": {}
  },
  {
   "cell_type": "code",
   "execution_count": 25,
   "source": [
    "idades"
   ],
   "outputs": [
    {
     "output_type": "execute_result",
     "data": {
      "text/plain": [
       "[20, 39, 18, 27, 19]"
      ]
     },
     "metadata": {},
     "execution_count": 25
    }
   ],
   "metadata": {}
  },
  {
   "cell_type": "code",
   "execution_count": 26,
   "source": [
    "def proximo_ano(idade):\r\n",
    "    return idade+1\r\n",
    "\r\n",
    "[proximo_ano(idade) for idade in idades if idade > 21]"
   ],
   "outputs": [
    {
     "output_type": "execute_result",
     "data": {
      "text/plain": [
       "[40, 28]"
      ]
     },
     "metadata": {},
     "execution_count": 26
    }
   ],
   "metadata": {}
  },
  {
   "cell_type": "code",
   "execution_count": 27,
   "source": [
    "def faz_processamento_de_visualizacao(lista):\r\n",
    "    print(len(lista))\r\n",
    "    lista.append(13)"
   ],
   "outputs": [],
   "metadata": {}
  },
  {
   "cell_type": "code",
   "execution_count": 28,
   "source": [
    "idades = [16, 21, 29, 56, 43]\r\n",
    "faz_processamento_de_visualizacao(idades)\r\n",
    "idades"
   ],
   "outputs": [
    {
     "output_type": "stream",
     "name": "stdout",
     "text": [
      "5\n"
     ]
    },
    {
     "output_type": "execute_result",
     "data": {
      "text/plain": [
       "[16, 21, 29, 56, 43, 13]"
      ]
     },
     "metadata": {},
     "execution_count": 28
    }
   ],
   "metadata": {}
  },
  {
   "cell_type": "code",
   "execution_count": 29,
   "source": [
    "def faz_processamento_de_visualizacao(lista = []):\r\n",
    "    print(len(lista))\r\n",
    "    print(lista)\r\n",
    "    lista.append(13)"
   ],
   "outputs": [],
   "metadata": {}
  },
  {
   "cell_type": "code",
   "execution_count": 30,
   "source": [
    "faz_processamento_de_visualizacao()"
   ],
   "outputs": [
    {
     "output_type": "stream",
     "name": "stdout",
     "text": [
      "0\n",
      "[]\n"
     ]
    }
   ],
   "metadata": {}
  },
  {
   "cell_type": "code",
   "execution_count": 31,
   "source": [
    "faz_processamento_de_visualizacao()"
   ],
   "outputs": [
    {
     "output_type": "stream",
     "name": "stdout",
     "text": [
      "1\n",
      "[13]\n"
     ]
    }
   ],
   "metadata": {}
  },
  {
   "cell_type": "code",
   "execution_count": 32,
   "source": [
    "faz_processamento_de_visualizacao()"
   ],
   "outputs": [
    {
     "output_type": "stream",
     "name": "stdout",
     "text": [
      "2\n",
      "[13, 13]\n"
     ]
    }
   ],
   "metadata": {}
  },
  {
   "cell_type": "code",
   "execution_count": 33,
   "source": [
    "faz_processamento_de_visualizacao()"
   ],
   "outputs": [
    {
     "output_type": "stream",
     "name": "stdout",
     "text": [
      "3\n",
      "[13, 13, 13]\n"
     ]
    }
   ],
   "metadata": {}
  },
  {
   "cell_type": "code",
   "execution_count": 34,
   "source": [
    "def faz_processamento_de_visualizacao(lista = list()):\r\n",
    "    print(len(lista))\r\n",
    "    print(lista)\r\n",
    "    lista.append(13)"
   ],
   "outputs": [],
   "metadata": {}
  },
  {
   "cell_type": "code",
   "execution_count": 35,
   "source": [
    "faz_processamento_de_visualizacao()\r\n",
    "faz_processamento_de_visualizacao()"
   ],
   "outputs": [
    {
     "output_type": "stream",
     "name": "stdout",
     "text": [
      "0\n",
      "[]\n",
      "1\n",
      "[13]\n"
     ]
    }
   ],
   "metadata": {}
  },
  {
   "cell_type": "code",
   "execution_count": 36,
   "source": [
    "def faz_processamento_de_visualizacao(lista = None):\r\n",
    "    if lista == None:\r\n",
    "        lista = list()\r\n",
    "    print(len(lista))\r\n",
    "    print(lista)\r\n",
    "    lista.append(13)"
   ],
   "outputs": [],
   "metadata": {}
  },
  {
   "cell_type": "code",
   "execution_count": null,
   "source": [],
   "outputs": [],
   "metadata": {}
  },
  {
   "cell_type": "code",
   "execution_count": 37,
   "source": [
    "faz_processamento_de_visualizacao()\r\n",
    "faz_processamento_de_visualizacao()\r\n",
    "faz_processamento_de_visualizacao()\r\n",
    "faz_processamento_de_visualizacao()"
   ],
   "outputs": [
    {
     "output_type": "stream",
     "name": "stdout",
     "text": [
      "0\n",
      "[]\n",
      "0\n",
      "[]\n",
      "0\n",
      "[]\n",
      "0\n",
      "[]\n"
     ]
    }
   ],
   "metadata": {}
  },
  {
   "cell_type": "code",
   "execution_count": null,
   "source": [],
   "outputs": [],
   "metadata": {}
  },
  {
   "cell_type": "markdown",
   "source": [
    "# Cuidado com valores padrão!\n",
    "\n",
    "Em Python, quando um valor padrão é declarado, esse valor é criado e ficana memória. Se o valor padrão for um objeto, por exemplo, uma instância do objeto é criada quando a função é **DECLARADA** e essa instância será usada cada vez qu a função for chamada. Dessa forma, é necessário tomar muito cuidado com operações que causam efeito colateral nessa instância. Veja o exemplo abaixo:"
   ],
   "metadata": {}
  },
  {
   "cell_type": "code",
   "execution_count": 38,
   "source": [
    "import random as random\r\n",
    "\r\n",
    "class Aluno:\r\n",
    "    def __init__(self):\r\n",
    "        self.nota = 0\r\n",
    "        self.nome = random.choice(['Pedro', 'João', 'Lucas', 'Felipe'])\r\n",
    "        \r\n",
    "def faz_algo(aluno = Aluno()):\r\n",
    "    aluno.nota += 1\r\n",
    "    print(f'{aluno.nome} tirou {aluno.nota} na prova')\r\n",
    "    "
   ],
   "outputs": [],
   "metadata": {}
  },
  {
   "cell_type": "code",
   "execution_count": 39,
   "source": [
    "faz_algo()"
   ],
   "outputs": [
    {
     "output_type": "stream",
     "name": "stdout",
     "text": [
      "Felipe tirou 1 na prova\n"
     ]
    }
   ],
   "metadata": {}
  },
  {
   "cell_type": "code",
   "execution_count": 40,
   "source": [
    "faz_algo()"
   ],
   "outputs": [
    {
     "output_type": "stream",
     "name": "stdout",
     "text": [
      "Felipe tirou 2 na prova\n"
     ]
    }
   ],
   "metadata": {}
  },
  {
   "cell_type": "code",
   "execution_count": 41,
   "source": [
    "faz_algo()"
   ],
   "outputs": [
    {
     "output_type": "stream",
     "name": "stdout",
     "text": [
      "Felipe tirou 3 na prova\n"
     ]
    }
   ],
   "metadata": {}
  },
  {
   "cell_type": "markdown",
   "source": [
    "Se o desejado é que uma instância nova seja criada a cada execução, a boa prática é usar `None` como valor default e verificar, no início da função, se o valor passado foi `None`. Caso tenha sido, uma nova instância deve ser criada."
   ],
   "metadata": {}
  },
  {
   "cell_type": "code",
   "execution_count": 42,
   "source": [
    "def faz_outro_algo(aluno = None):\r\n",
    "    if(aluno == None):\r\n",
    "        aluno = Aluno()\r\n",
    "    \r\n",
    "    aluno.nota += 1\r\n",
    "    print(f'{aluno.nome} tirou {aluno.nota} na prova')"
   ],
   "outputs": [],
   "metadata": {}
  },
  {
   "cell_type": "code",
   "execution_count": 43,
   "source": [
    "faz_outro_algo()"
   ],
   "outputs": [
    {
     "output_type": "stream",
     "name": "stdout",
     "text": [
      "João tirou 1 na prova\n"
     ]
    }
   ],
   "metadata": {}
  },
  {
   "cell_type": "code",
   "execution_count": 44,
   "source": [
    "faz_outro_algo()"
   ],
   "outputs": [
    {
     "output_type": "stream",
     "name": "stdout",
     "text": [
      "Felipe tirou 1 na prova\n"
     ]
    }
   ],
   "metadata": {}
  },
  {
   "cell_type": "code",
   "execution_count": 45,
   "source": [
    "faz_outro_algo()"
   ],
   "outputs": [
    {
     "output_type": "stream",
     "name": "stdout",
     "text": [
      "Lucas tirou 1 na prova\n"
     ]
    }
   ],
   "metadata": {}
  },
  {
   "cell_type": "code",
   "execution_count": 46,
   "source": [
    "faz_outro_algo()"
   ],
   "outputs": [
    {
     "output_type": "stream",
     "name": "stdout",
     "text": [
      "Felipe tirou 1 na prova\n"
     ]
    }
   ],
   "metadata": {}
  },
  {
   "cell_type": "code",
   "execution_count": null,
   "source": [],
   "outputs": [],
   "metadata": {}
  }
 ],
 "metadata": {
  "kernelspec": {
   "name": "python3",
   "display_name": "Python 3.9.7 64-bit (conda)"
  },
  "language_info": {
   "codemirror_mode": {
    "name": "ipython",
    "version": 3
   },
   "file_extension": ".py",
   "mimetype": "text/x-python",
   "name": "python",
   "nbconvert_exporter": "python",
   "pygments_lexer": "ipython3",
   "version": "3.9.7"
  },
  "interpreter": {
   "hash": "8ae6e8347844ce31cefbfab1c46c85d6003d3a1108122483edd0f60efc9feef7"
  }
 },
 "nbformat": 4,
 "nbformat_minor": 5
}