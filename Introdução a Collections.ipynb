{
 "cells": [
  {
   "cell_type": "code",
   "execution_count": 1,
   "id": "6df2016d-5ffd-425e-95ba-eece96ad8ad8",
   "metadata": {},
   "outputs": [
    {
     "name": "stdout",
     "output_type": "stream",
     "text": [
      "39\n",
      "30\n",
      "27\n"
     ]
    }
   ],
   "source": [
    "idade1 = 39\n",
    "idade2 = 30\n",
    "idade3 = 27\n",
    "\n",
    "print(idade1)\n",
    "print(idade2)\n",
    "print(idade3)"
   ]
  }
 ],
 "metadata": {
  "kernelspec": {
   "display_name": "Python 3",
   "language": "python",
   "name": "python3"
  },
  "language_info": {
   "codemirror_mode": {
    "name": "ipython",
    "version": 3
   },
   "file_extension": ".py",
   "mimetype": "text/x-python",
   "name": "python",
   "nbconvert_exporter": "python",
   "pygments_lexer": "ipython3",
   "version": "3.8.8"
  }
 },
 "nbformat": 4,
 "nbformat_minor": 5
}
